{
 "cells": [
  {
   "cell_type": "code",
   "execution_count": 110,
   "metadata": {
    "collapsed": false,
    "scrolled": true
   },
   "outputs": [],
   "source": [
    "#Read files\n",
    "\n",
    "import pandas as pd\n",
    "import glob\n",
    "from os import walk\n",
    "import re\n",
    "import sys\n",
    "\n",
    "def getDF(path):\n",
    "    for (dirpath,dirnames,filenames) in walk(path):\n",
    "        break\n",
    "    #Populate dataframe\n",
    "    df = pd.DataFrame(['lose lbs'], columns=['Content'])\n",
    "    for fname in filenames:\n",
    "        f = open(path+fname,'r')\n",
    "        text = f.read()\n",
    "        df_tmp = pd.DataFrame([text], columns=['Content'])\n",
    "        df = df.append(df_tmp, ignore_index=True)\n",
    "    return df\n",
    "\n",
    "def splitData(spam, ham):\n",
    "    spam_train = spam.sample(frac = 0.8, random_state=0)\n",
    "    spam_test = spam.drop(spam_train.index)\n",
    "    ham_train = ham.sample(frac = 0.8, random_state=0)\n",
    "    ham_test = ham.drop(ham_train.index)\n",
    "    return [spam_train, ham_train, spam_test, ham_test]\n",
    "\n",
    "def gen2grams(txt):\n",
    "    global curGram\n",
    "    words = re.split('[^A-Za-z]+', txt.lower())\n",
    "    words = filter(None, words)\n",
    "    for i in xrange(len(words)-1):\n",
    "        key = (words[i], words[i+1])\n",
    "        if curGram.has_key(key):\n",
    "            curGram[key] += 1\n",
    "        else:\n",
    "            curGram[key] = 1\n",
    "    \n",
    "def populate2Gram(data):\n",
    "    global curGram\n",
    "    curGram = dict()\n",
    "    data['Content'].apply(gen2grams)\n",
    "    return curGram\n",
    "\n",
    "spam = getDF('spamemails/other/SPAM/')\n",
    "ham = getDF('spamemails/other/HAM/')\n",
    "(spam_train, ham_train, spam_test, ham_test) = splitData(spam, ham)\n",
    "\n",
    "#Obtain n gram\n",
    "spam_2gram = populate2Gram(spam_train)\n",
    "ham_2gram = populate2Gram(ham_train)\n",
    "total_2gram = populate2Gram(spam_train.append(ham_train))\n"
   ]
  },
  {
   "cell_type": "code",
   "execution_count": 97,
   "metadata": {
    "collapsed": false,
    "scrolled": false
   },
   "outputs": [],
   "source": [
    "def findSums(gram2):              \n",
    "    words = set([element[0] for element in gram2])\n",
    "    wlen = dict()\n",
    "    for word in words:\n",
    "        wlen[word] = sum([gram2[element] for element in gram2 if element[0] == word])\n",
    "    return wlen\n",
    "\n",
    "#Find sums\n",
    "slen = findSums(spam_2gram)\n",
    "hlen = findSums(ham_2gram)\n",
    "tlen = findSums(total_2gram)"
   ]
  },
  {
   "cell_type": "code",
   "execution_count": 107,
   "metadata": {
    "collapsed": false
   },
   "outputs": [],
   "source": [
    "import math\n",
    "def pairProb(word1, word2, gram2, length):\n",
    "    if (word1,word2) in gram2:\n",
    "        d = length[word1]\n",
    "        n = float(gram2[word1,word2])\n",
    "        return n/d\n",
    "    else:\n",
    "        return math.e ** -5\n",
    "    \n",
    "def lineProb(txt, gram2, length):\n",
    "    #need to implement smoothing\n",
    "    words = re.split('[^A-Za-z]+', txt.lower())\n",
    "    words = filter(None, words)\n",
    "    prob = 1.0\n",
    "    for i in range(len(words)-1):\n",
    "        prob = prob * pairProb(words[i],words[i+1], gram2, length)\n",
    "        p = pairProb(words[i],words[i+1], gram2, length)\n",
    "    return prob"
   ]
  },
  {
   "cell_type": "code",
   "execution_count": 112,
   "metadata": {
    "collapsed": false,
    "scrolled": true
   },
   "outputs": [],
   "source": [
    "def test(text):\n",
    "    actualSpam = False\n",
    "    #Bayes Theorem\n",
    "    ES = lineProb(text,spam_2gram, slen)\n",
    "    EH = lineProb(text,ham_2gram, hlen)\n",
    "    S = H = 0.5\n",
    "    E = lineProb(text,total_2gram, tlen)\n",
    "    if E == 0:\n",
    "        print 'Do not know'\n",
    "        return\n",
    "    SE = (ES * S) / E\n",
    "    HE = (EH * H) / E\n",
    "    prediction = SE > HE\n",
    "    return prediction == actualSpam\n",
    "\n",
    "#spam_test['Content'].apply(test) \n",
    "#ham_test['Content'].apply(test) "
   ]
  },
  {
   "cell_type": "code",
   "execution_count": null,
   "metadata": {
    "collapsed": true
   },
   "outputs": [],
   "source": []
  }
 ],
 "metadata": {
  "kernelspec": {
   "display_name": "Python 2",
   "language": "python",
   "name": "python2"
  },
  "language_info": {
   "codemirror_mode": {
    "name": "ipython",
    "version": 2
   },
   "file_extension": ".py",
   "mimetype": "text/x-python",
   "name": "python",
   "nbconvert_exporter": "python",
   "pygments_lexer": "ipython2",
   "version": "2.7.11"
  }
 },
 "nbformat": 4,
 "nbformat_minor": 0
}
