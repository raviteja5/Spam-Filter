{
 "cells": [
  {
   "cell_type": "code",
   "execution_count": 338,
   "metadata": {
    "collapsed": false
   },
   "outputs": [],
   "source": [
    "import numpy as np\n",
    "import pandas\n",
    "import math\n",
    "\n",
    "def loadData(filename):\n",
    "    data = pandas.read_csv(filename)\n",
    "    train = data.sample(frac = 0.8)\n",
    "    test = data.drop(train.index)\n",
    "    test = test.reindex(np.random.permutation(test.index))\n",
    "    train = train.applymap(lambda x : 1.0 if x > 0 else 0.0)\n",
    "    test =test.applymap(lambda x : 1.0 if x > 0 else 0.0)\n",
    "    return [train,test]\n",
    "\n",
    "def populateWordCountVectors(train):\n",
    "    spam = train[train['1'] == 1]\n",
    "    ham = train[train['1'] == 0]\n",
    "    wordcount_spam = spam.sum()\n",
    "    wordcount_ham = ham.sum()\n",
    "    spam_count = spam.shape[0]\n",
    "    ham_count = ham.shape[0]\n",
    "    total = spam_count + ham_count\n",
    "    return [wordcount_spam / spam_count, wordcount_ham / ham_count, float(spam_count) / total, float(ham_count) / total]    \n",
    "\n",
    "def populateSpamliness(W_S, W_H, spam_prob, ham_prob):\n",
    "    words = np.array([0.0] * 58)\n",
    "    for i in range(len(words)):\n",
    "        #Bayes Theorem\n",
    "        term1 = W_S[i] * spam_prob\n",
    "        term2 = W_H[i] * ham_prob\n",
    "        words[i] = term1 / (term1 + term2)\n",
    "    return words\n",
    "\n",
    "def populateModel(train):\n",
    "    W_S , W_H, spam_prob, ham_prob = populateWordCountVectors(train)\n",
    "    S_W = populateSpamliness(W_S, W_H, spam_prob, ham_prob)\n",
    "    return S_W\n",
    "\n",
    "def calculatePrecision(test, S_W):\n",
    "    correct = 0\n",
    "    wrong = 0\n",
    "    predictions = test.apply(lambda row: predict(row),axis=1)\n",
    "    actual_values = test.apply(lambda row: True if row['1']==1.0 else False, axis=1)\n",
    "    equality = (predictions == actual_values)\n",
    "    correct = equality[equality==True].shape[0]\n",
    "    return float(correct)/ test.shape[0]\n",
    "\n",
    "def predict(vector): \n",
    "    sum = 0.0\n",
    "    for i in range(48):\n",
    "        if(vector.iloc[i] == 1):\n",
    "            term1 = math.log(1-S_W[i])\n",
    "            term2 = math.log(S_W[i])\n",
    "            sum += (term1-term2)\n",
    "    prob = 1.0/(1+ np.e ** sum)\n",
    "    prediction = prob > THRES\n",
    "    return prediction   \n",
    "\n",
    "THRES = 0.85\n",
    "train, test = loadData('spambase/spambase.data')\n",
    "S_W = populateModel(train)\n",
    "precision = calculatePrecision(test, S_W)\n",
    "print precision\n"
   ]
  },
  {
   "cell_type": "code",
   "execution_count": null,
   "metadata": {
    "collapsed": true
   },
   "outputs": [],
   "source": []
  }
 ],
 "metadata": {
  "kernelspec": {
   "display_name": "Python 2",
   "language": "python",
   "name": "python2"
  },
  "language_info": {
   "codemirror_mode": {
    "name": "ipython",
    "version": 2
   },
   "file_extension": ".py",
   "mimetype": "text/x-python",
   "name": "python",
   "nbconvert_exporter": "python",
   "pygments_lexer": "ipython2",
   "version": "2.7.11"
  }
 },
 "nbformat": 4,
 "nbformat_minor": 0
}
